{
 "cells": [
  {
   "cell_type": "code",
   "execution_count": 7,
   "metadata": {},
   "outputs": [
    {
     "name": "stdout",
     "output_type": "stream",
     "text": [
      "Automatically created module for IPython interactive environment\n"
     ]
    }
   ],
   "source": [
    "from sklearn.model_selection import ShuffleSplit, cross_val_score\n",
    "from sklearn.discriminant_analysis import LinearDiscriminantAnalysis\n",
    "from sklearn.pipeline import Pipeline\n",
    "\n",
    "from mne.decoding import CSP\n",
    "from mne.channels import read_layout\n",
    "from loaddata import *\n",
    "\n",
    "print(__doc__)"
   ]
  },
  {
   "cell_type": "code",
   "execution_count": 12,
   "metadata": {},
   "outputs": [],
   "source": [
    "fp = {\n",
    "    'al': './data_set_raw/data_set_IVa_al.mat',\n",
    "}\n",
    "\n",
    "pick_chan = {\n",
    "    'al': ['C3', 'Cz', 'C5'],\n",
    "}\n",
    "\n",
    "low_freq, high_freq = 7., 30.\n",
    "tmin, tmax = 0., 3.5\n",
    "\n",
    "# event_id\n",
    "event_id = {'right': 1, 'foot': 2}"
   ]
  },
  {
   "cell_type": "code",
   "execution_count": 13,
   "metadata": {
    "scrolled": true
   },
   "outputs": [
    {
     "name": "stdout",
     "output_type": "stream",
     "text": [
      "Creating RawArray with float64 data, n_channels=118, n_times=283574\n",
      "    Range : 0 ... 283573 =      0.000 ...  2835.730 secs\n",
      "Ready.\n"
     ]
    },
    {
     "data": {
      "text/plain": [
       "<Info | 7 non-empty values\n",
       " bads: []\n",
       " ch_names: Fp1, AFp1, Fpz, AFp2, Fp2, AF7, AF3, AF4, AF8, FAF5, FAF1, FAF2, ...\n",
       " chs: 118 EEG\n",
       " custom_ref_applied: False\n",
       " highpass: 0.0 Hz\n",
       " lowpass: 50.0 Hz\n",
       " meas_date: unspecified\n",
       " nchan: 118\n",
       " projs: []\n",
       " sfreq: 100.0 Hz\n",
       ">"
      ]
     },
     "execution_count": 13,
     "metadata": {},
     "output_type": "execute_result"
    }
   ],
   "source": [
    "raw = creatRawArray(fp['al'])\n",
    "events, labels = creatEventsArray(fp['al'])\n",
    "\n",
    "raw.info"
   ]
  },
  {
   "cell_type": "code",
   "execution_count": 24,
   "metadata": {},
   "outputs": [
    {
     "data": {
      "image/png": "[encoded data removed]",
      "text/plain": [
       "<Figure size 432x288 with 4 Axes>"
      ]
     },
     "metadata": {},
     "output_type": "display_data"
    },
    {
     "data": {
      "text/plain": [
       "\" \\nax2d = fig.add_subplot(121)\\nax3d = fig.add_subplot(122, projection='3d')\\nraw.plot_sensors(ch_type='eeg', axes=ax2d)\\nraw.plot_sensors(ch_type='eeg', axes=ax3d, kind='3d')\\nax3d.view_init(azim=70, elev=15)\\nraw.plot_sensors(ch_type='eeg')\\n\""
      ]
     },
     "execution_count": 24,
     "metadata": {},
     "output_type": "execute_result"
    }
   ],
   "source": [
    "\"\"\"\n",
    "raw.plot(start=5, duration=10, n_channels=1)\n",
    "\n",
    "ax2d = fig.add_subplot(121)\n",
    "ax3d = fig.add_subplot(122, projection='3d')\n",
    "raw.plot_sensors(ch_type='eeg', axes=ax2d)\n",
    "raw.plot_sensors(ch_type='eeg', axes=ax3d, kind='3d')\n",
    "ax3d.view_init(azim=70, elev=15)\n",
    "raw.plot_sensors(ch_type='eeg')\n",
    "\"\"\""
   ]
  },
  {
   "cell_type": "code",
   "execution_count": null,
   "metadata": {},
   "outputs": [],
   "source": [
    "# Apply band-pass filter\n",
    "raw.filter(low_freq, high_freq, fir_design='firwin', skip_by_annotation='edge')\n",
    "\n",
    "# event_train = eventsTrain(fp[f])\n",
    "epochs = mne.Epochs(raw, events=events, event_id=event_id, tmin=tmin, tmax=tmax, baseline=None, preload=True,\n",
    "                    verbose=False)\n",
    "\n",
    "epochs_train = epochs.copy().crop(tmin=1., tmax=2.)\n",
    "labels = epochs.events[:, -1] - 2\n"
   ]
  },
  {
   "cell_type": "code",
   "execution_count": 17,
   "metadata": {},
   "outputs": [
    {
     "name": "stdout",
     "output_type": "stream",
     "text": [
      "Filtering raw data in 1 contiguous segment\n",
      "Setting up band-pass filter from 7 - 30 Hz\n",
      "\n",
      "FIR filter parameters\n",
      "---------------------\n",
      "Designing a one-pass, zero-phase, non-causal bandpass filter:\n",
      "- Windowed time-domain design (firwin) method\n",
      "- Hamming window with 0.0194 passband ripple and 53 dB stopband attenuation\n",
      "- Lower passband edge: 7.00\n",
      "- Lower transition bandwidth: 2.00 Hz (-6 dB cutoff frequency: 6.00 Hz)\n",
      "- Upper passband edge: 30.00 Hz\n",
      "- Upper transition bandwidth: 7.50 Hz (-6 dB cutoff frequency: 33.75 Hz)\n",
      "- Filter length: 165 samples (1.650 sec)\n",
      "\n",
      "Computing rank from data with rank=None\n",
      "    Using tolerance 1.8e+03 (2.2e-16 eps * 118 dim * 6.9e+16  max singular value)\n",
      "    Estimated rank (mag): 118\n",
      "    MAG: rank 118 computed from 118 data channels with 0 projectors\n",
      "Reducing data rank from 118 -> 118\n",
      "Estimating covariance using EMPIRICAL\n",
      "Done.\n",
      "Computing rank from data with rank=None\n",
      "    Using tolerance 1.8e+03 (2.2e-16 eps * 118 dim * 6.9e+16  max singular value)\n",
      "    Estimated rank (mag): 118\n",
      "    MAG: rank 118 computed from 118 data channels with 0 projectors\n",
      "Reducing data rank from 118 -> 118\n",
      "Estimating covariance using EMPIRICAL\n",
      "Done.\n",
      "Computing rank from data with rank=None\n",
      "    Using tolerance 1.8e+03 (2.2e-16 eps * 118 dim * 7.1e+16  max singular value)\n",
      "    Estimated rank (mag): 118\n",
      "    MAG: rank 118 computed from 118 data channels with 0 projectors\n",
      "Reducing data rank from 118 -> 118\n",
      "Estimating covariance using EMPIRICAL\n",
      "Done.\n",
      "Computing rank from data with rank=None\n",
      "    Using tolerance 1.8e+03 (2.2e-16 eps * 118 dim * 6.9e+16  max singular value)\n",
      "    Estimated rank (mag): 118\n",
      "    MAG: rank 118 computed from 118 data channels with 0 projectors\n",
      "Reducing data rank from 118 -> 118\n",
      "Estimating covariance using EMPIRICAL\n",
      "Done.\n",
      "Computing rank from data with rank=None\n",
      "    Using tolerance 1.8e+03 (2.2e-16 eps * 118 dim * 6.7e+16  max singular value)\n",
      "    Estimated rank (mag): 118\n",
      "    MAG: rank 118 computed from 118 data channels with 0 projectors\n",
      "Reducing data rank from 118 -> 118\n",
      "Estimating covariance using EMPIRICAL\n",
      "Done.\n",
      "Computing rank from data with rank=None\n",
      "    Using tolerance 1.8e+03 (2.2e-16 eps * 118 dim * 6.9e+16  max singular value)\n",
      "    Estimated rank (mag): 118\n",
      "    MAG: rank 118 computed from 118 data channels with 0 projectors\n",
      "Reducing data rank from 118 -> 118\n",
      "Estimating covariance using EMPIRICAL\n",
      "Done.\n",
      "Computing rank from data with rank=None\n",
      "    Using tolerance 1.8e+03 (2.2e-16 eps * 118 dim * 6.7e+16  max singular value)\n",
      "    Estimated rank (mag): 118\n",
      "    MAG: rank 118 computed from 118 data channels with 0 projectors\n",
      "Reducing data rank from 118 -> 118\n",
      "Estimating covariance using EMPIRICAL\n",
      "Done.\n",
      "Computing rank from data with rank=None\n",
      "    Using tolerance 1.8e+03 (2.2e-16 eps * 118 dim * 7e+16  max singular value)\n",
      "    Estimated rank (mag): 118\n",
      "    MAG: rank 118 computed from 118 data channels with 0 projectors\n",
      "Reducing data rank from 118 -> 118\n",
      "Estimating covariance using EMPIRICAL\n",
      "Done.\n",
      "Computing rank from data with rank=None\n",
      "    Using tolerance 1.8e+03 (2.2e-16 eps * 118 dim * 6.9e+16  max singular value)\n",
      "    Estimated rank (mag): 118\n",
      "    MAG: rank 118 computed from 118 data channels with 0 projectors\n",
      "Reducing data rank from 118 -> 118\n",
      "Estimating covariance using EMPIRICAL\n",
      "Done.\n",
      "Computing rank from data with rank=None\n",
      "    Using tolerance 1.9e+03 (2.2e-16 eps * 118 dim * 7.1e+16  max singular value)\n",
      "    Estimated rank (mag): 118\n",
      "    MAG: rank 118 computed from 118 data channels with 0 projectors\n",
      "Reducing data rank from 118 -> 118\n",
      "Estimating covariance using EMPIRICAL\n",
      "Done.\n"
     ]
    }
   ],
   "source": [
    "# Define a monte-carlo cross-validation generator (reduce variance):\n",
    "scores = []\n",
    "epochs_data = epochs.get_data()\n",
    "epochs_data_train = epochs_train.get_data()\n",
    "cv = ShuffleSplit(5, test_size=0.2, random_state=42)\n",
    "cv_split = cv.split(epochs_data_train)\n",
    "\n",
    "# Assemble a classifier\n",
    "lda = LinearDiscriminantAnalysis()\n",
    "csp = CSP(n_components=len(epochs.ch_names), reg=None, log=True, norm_trace=False)\n",
    "\n",
    "# Use scikit-learn Pipeline with cross_val_score function\n",
    "clf = Pipeline([('CSP', csp), ('LDA', lda)])\n",
    "scores = cross_val_score(clf, epochs_data_train, labels, cv=cv, n_jobs=1, verbose=False)"
   ]
  },
  {
   "cell_type": "code",
   "execution_count": 18,
   "metadata": {},
   "outputs": [
    {
     "name": "stdout",
     "output_type": "stream",
     "text": [
      "Classification accuracy: 0.880000 / Chance level: 0.500000\n",
      "Computing rank from data with rank=None\n",
      "    Using tolerance 3.6e+03 (2.2e-16 eps * 118 dim * 1.4e+17  max singular value)\n",
      "    Estimated rank (mag): 118\n",
      "    MAG: rank 118 computed from 118 data channels with 0 projectors\n",
      "Reducing data rank from 118 -> 118\n",
      "Estimating covariance using EMPIRICAL\n",
      "Done.\n",
      "Computing rank from data with rank=None\n",
      "    Using tolerance 3.5e+03 (2.2e-16 eps * 118 dim * 1.3e+17  max singular value)\n",
      "    Estimated rank (mag): 118\n",
      "    MAG: rank 118 computed from 118 data channels with 0 projectors\n",
      "Reducing data rank from 118 -> 118\n",
      "Estimating covariance using EMPIRICAL\n",
      "Done.\n"
     ]
    },
    {
     "data": {
      "text/plain": [
       "array([[-2.65046877, -2.13129238, -1.90507502, ..., -0.75593205,\n",
       "        -0.70342905, -0.92328317],\n",
       "       [-1.74802089, -2.07887   , -1.73949991, ..., -0.63707919,\n",
       "        -0.49402031, -0.8406706 ],\n",
       "       [-0.26542195, -0.60702867, -0.00924283, ..., -0.75505953,\n",
       "        -0.49000489, -0.83445092],\n",
       "       ...,\n",
       "       [-2.47295022, -1.77263681, -1.78428844, ..., -0.65181098,\n",
       "        -0.84794432, -0.81582713],\n",
       "       [-2.21593186, -1.98774539, -1.54457096, ..., -0.49382871,\n",
       "        -0.58332832, -0.59852983],\n",
       "       [-0.21388883, -0.10332413, -0.36824982, ..., -0.70319295,\n",
       "        -0.6511371 , -0.43434828]])"
      ]
     },
     "execution_count": 18,
     "metadata": {},
     "output_type": "execute_result"
    }
   ],
   "source": [
    "# Printing the results\n",
    "class_balance = np.mean(labels == labels[0])\n",
    "class_balance = max(class_balance, 1. - class_balance)\n",
    "print(\"Classification accuracy: %f / Chance level: %f\" % (np.mean(scores), class_balance))\n",
    "\n",
    "# plot CSP patterns estimated on full data for visualization\n",
    "csp.fit_transform(epochs_data, labels)"
   ]
  }
 ],
 "metadata": {
  "kernelspec": {
   "display_name": "Python 3",
   "language": "python",
   "name": "python3"
  },
  "language_info": {
   "codemirror_mode": {
    "name": "ipython",
    "version": 3
   },
   "file_extension": ".py",
   "mimetype": "text/x-python",
   "name": "python",
   "nbconvert_exporter": "python",
   "pygments_lexer": "ipython3",
   "version": "3.7.3"
  }
 },
 "nbformat": 4,
 "nbformat_minor": 2
}
