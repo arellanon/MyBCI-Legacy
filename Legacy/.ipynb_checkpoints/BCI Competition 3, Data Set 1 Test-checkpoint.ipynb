{
 "cells": [
  {
   "cell_type": "markdown",
   "metadata": {},
   "source": [
    "### Getting the Dataset\n",
    "\n",
    "This example uses the [Data Set 1][bcicomp3ds1] from the BCI Competition 3. After downloading and copying it into a directory called `data` next to this script, you should be able to follow this example.\n",
    "\n",
    "[bcicomp3ds1]: http://www.bbci.de/competition/iii/#data_set_i\n"
   ]
  },
  {
   "cell_type": "code",
   "execution_count": 1,
   "metadata": {},
   "outputs": [
    {
     "name": "stderr",
     "output_type": "stream",
     "text": [
      "DEBUG:matplotlib:CACHEDIR=/home/nahuel/.cache/matplotlib\n",
      "DEBUG:matplotlib.font_manager:Using fontManager instance from /home/nahuel/.cache/matplotlib/fontlist-v310.json\n",
      "DEBUG:matplotlib.pyplot:Loaded backend module://ipykernel.pylab.backend_inline version unknown.\n",
      "DEBUG:matplotlib.pyplot:Loaded backend module://ipykernel.pylab.backend_inline version unknown.\n"
     ]
    }
   ],
   "source": [
    "from __future__ import division\n",
    "\n",
    "import numpy as np\n",
    "import scipy as sp\n",
    "from scipy.io import loadmat\n",
    "import matplotlib as mpl\n",
    "from wyrm import processing as proc\n",
    "from wyrm.types import Data\n",
    "from wyrm import plot\n",
    "from matplotlib import pyplot as plt\n",
    "\n",
    "from os import path"
   ]
  },
  {
   "cell_type": "code",
   "execution_count": null,
   "metadata": {},
   "outputs": [],
   "source": [
    "#Se carga data txt Class-Channel x Time (17792 x 3000)\n",
    "data_train_txt = np.loadtxt('/home/nahuel/Documents/TESIS/DATA/Competencia BCI/III/Dataset_I/txt/Competition_train_cnt.txt')\n",
    "\n",
    "#Convertimos data_txt en una matriz de 3 dimensiones Class x Channel x Time (278 x 64 x 3000)\n",
    "data_train_txt.shape = (278, 64, 3000)\n",
    "#Modificamos el orden de las dimensiones como Class x Time x Channel (278 x 3000 x 64)\n",
    "data_train_txt = data_train_txt.swapaxes(-1, -2)\n"
   ]
  },
  {
   "cell_type": "code",
   "execution_count": null,
   "metadata": {},
   "outputs": [],
   "source": [
    "#Se carga 278 etiquetas de Class del conjunto de train\n",
    "data_lab_txt = np.loadtxt('/home/nahuel/Documents/TESIS/DATA/Competencia BCI/III/Dataset_I/txt/Competition_train_lab.txt')\n",
    "\n",
    "#Convierte a enteros y si es necesario devuelve un vector de una dimension\n",
    "data_lab_txt = data_lab_txt.astype('int').ravel()\n",
    "#Convertimos los -1 a 0\n",
    "data_lab_txt[data_lab_txt == -1] = 0\n"
   ]
  },
  {
   "cell_type": "code",
   "execution_count": null,
   "metadata": {},
   "outputs": [],
   "source": [
    "#Convertimos a wyrm Data - Set Train\n",
    "#Cargamos data training\n",
    "data = data_train_txt\n",
    "labels = data_lab_txt\n",
    "\n",
    "#Creamos axes con enumerados de la misma longitud que data Class x Time x Channel\n",
    "axes = [np.arange(i) for i in data.shape]\n",
    "#Se completa la dimension Class con labels\n",
    "axes[0] = labels\n",
    "#Se convierte a str la dimension Channel\n",
    "#axes[2] = [str(i) for i in range(data.shape[2])]\n",
    "axes[2] = ['PPO4','CP4','PCP1','F5','C3','C4','O1','PPO2','FFC2','FAF5','PO1','TP10','FAF1','FFC6','FFC1','PO10','O10','C1','Cz','F2','CFC1','CCP2','F4','PO9','CFC6','TP7','FC6','AF8','Fz','AF4','PCP9','F6','FT10','FAF6','PO5','O2','OPO2','AF5','C2','P4','TP9','PCP7','FT8','A2','PO6','FC3','PPO1','CCP8','OPO1','AFp2','OI2','OI1','FCz','CCP6','CCP1','CPz','POz','FFC3','FFC7','FC2','F1','FT9','P2','P10']\n",
    "\n",
    "names = ['Class', 'Time', 'Channel']\n",
    "units = ['#', 'ms', '#']\n",
    "dat_train = Data(data=data, axes=axes, names=names, units=units)\n",
    "dat_train.fs = 1000\n",
    "dat_train.class_names = ['pinky', 'tongue']\n"
   ]
  },
  {
   "cell_type": "code",
   "execution_count": null,
   "metadata": {},
   "outputs": [],
   "source": [
    "#Se carga data txt Epoch-Channel x Time (6400 x 3000)\n",
    "data_test_txt = np.loadtxt('/home/nahuel/Documents/TESIS/DATA/Competencia BCI/III/Dataset_I/txt/Competition_test_cnt.txt')\n",
    "#Convertimos data_txt en una matriz de 3 dimensiones Epoch x Channel x Time (100 x 64 x 3000)\n",
    "data_test_txt.shape = (100, 64, 3000)\n",
    "#Modificamos el orden de las dimensiones como Epoch x Time x Channel (100 x 3000 x 64)\n",
    "data_test_txt = data_test_txt.swapaxes(-1, -2)"
   ]
  },
  {
   "cell_type": "code",
   "execution_count": null,
   "metadata": {},
   "outputs": [],
   "source": [
    "#Convertimos a wyrm Data - Set Test\n",
    "#Cargamos data test\n",
    "data = data_test_txt\n",
    "\n",
    "#Creamos axes con enumerados de la misma longitud que data Class x Time x Channel\n",
    "axes = [np.arange(i) for i in data.shape]\n",
    "#Se convierte a str la dimension Channel\n",
    "axes[2] = [str(i) for i in range(data.shape[2])]\n",
    "names = ['Epoch', 'Time', 'Channel']\n",
    "units = ['#', 'ms', '#']\n",
    "dat_test = Data(data=data, axes=axes, names=names, units=units)\n",
    "dat_test.fs = 1000\n"
   ]
  },
  {
   "cell_type": "code",
   "execution_count": null,
   "metadata": {},
   "outputs": [],
   "source": [
    "def plot_csp_pattern(a):\n",
    "    # get symmetric min/max values for the color bar from first and last column of the pattern\n",
    "    maxv = np.max(np.abs(a[:, [0, -1]]))\n",
    "    minv = -maxv\n",
    "    \n",
    "    im_args = {'interpolation' : 'None', \n",
    "           'vmin' : minv, \n",
    "           'vmax' : maxv\n",
    "           }\n",
    "\n",
    "    # plot\n",
    "    ax1 = plt.subplot2grid((1,11), (0,0), colspan=5)\n",
    "    ax2 = plt.subplot2grid((1,11), (0,5), colspan=5)\n",
    "    ax3 = plt.subplot2grid((1,11), (0,10))\n",
    "\n",
    "    ax1.imshow(a[:, 0].reshape(8, 8), **im_args)\n",
    "    ax1.set_title('Pinky')\n",
    "\n",
    "    ax = ax2.imshow(a[:, -1].reshape(8, 8), **im_args)\n",
    "    ax2.set_title('Tongue')\n",
    "\n",
    "    plt.colorbar(ax, cax=ax3)\n",
    "    plt.tight_layout()"
   ]
  },
  {
   "cell_type": "code",
   "execution_count": null,
   "metadata": {},
   "outputs": [],
   "source": [
    "def filtros(data):\n",
    "    dat = data.copy()\n",
    "    \n",
    "    #Mitad de la frecuencia\n",
    "    fs_n = dat.fs / 2\n",
    "    \n",
    "    #Se aplica filtros\n",
    "    b, a = proc.signal.butter(5, [13 / fs_n], btype='low')   \n",
    "    dat = proc.filtfilt(dat, b, a)\n",
    "    \n",
    "    b, a = proc.signal.butter(5, [9 / fs_n], btype='high')\n",
    "    dat = proc.filtfilt(dat, b, a)\n",
    "    return dat\n",
    "    "
   ]
  },
  {
   "cell_type": "code",
   "execution_count": null,
   "metadata": {},
   "outputs": [],
   "source": [
    "def preprocess(data, filt=None):\n",
    "    #Se aplican los filtros\n",
    "    dat=filtros(data)\n",
    "    \n",
    "    #Se toma una muestra de 50 cada 1000 (fs_n = 1000) (278 x 150 x 64)\n",
    "    dat = proc.subsample(dat, 50)\n",
    "        \n",
    "    if filt is None:\n",
    "        #Calcula el patrón espacial común (CSP) para dos clases.\n",
    "        filt, pattern, _ = proc.calculate_csp(dat)\n",
    "        #Grafica csp_pattern\n",
    "        plot_csp_pattern(pattern)\n",
    "        \n",
    "    #Aplica el CSP\n",
    "    dat = proc.apply_csp(dat, filt)\n",
    "    #print(filt[0])\n",
    "    dat = proc.variance(dat)\n",
    "    dat = proc.logarithm(dat)\n",
    "    return dat, filt"
   ]
  },
  {
   "cell_type": "code",
   "execution_count": null,
   "metadata": {},
   "outputs": [],
   "source": [
    "#Se calcula el vector de caracteristicas para los conjuntos de train y test\n",
    "fv_train, filt = preprocess(dat_train)\n",
    "fv_test, _ = preprocess(dat_test, filt)"
   ]
  },
  {
   "cell_type": "code",
   "execution_count": null,
   "metadata": {
    "scrolled": true
   },
   "outputs": [],
   "source": [
    "#dat_new = proc.remove_channels(dat_train, ['PPO4','CP4'])\n",
    "#proc.select_channels(dat_train, ['PPO4','CP4'])"
   ]
  },
  {
   "cell_type": "code",
   "execution_count": null,
   "metadata": {},
   "outputs": [],
   "source": [
    "#Se carga 100 etiquetas TRUE LABELS\n",
    "TRUE_LABELS = '/home/nahuel/Documents/TESIS/DATA/Competencia BCI/III/Dataset_I/txt/true_labels.txt'\n",
    "\n",
    "true_labels = np.loadtxt(TRUE_LABELS).astype('int')\n",
    "#Convertimos los -1 a 0\n",
    "true_labels[true_labels == -1] = 0\n"
   ]
  },
  {
   "cell_type": "code",
   "execution_count": null,
   "metadata": {},
   "outputs": [],
   "source": [
    "#Entrenamiento con LDA clasificador.\n",
    "cfy = proc.lda_train(fv_train)\n",
    "\n",
    "#Aplicar vector de características al clasificador LDA.\n",
    "result = proc.lda_apply(fv_test, cfy)\n",
    "\n",
    "#Normaliza resultados\n",
    "#Si es > 0 = 1 sino -1\n",
    "result = (np.sign(result)).astype('int')\n",
    "#Convertimos los -1 a 0\n",
    "result[result == -1] = 0\n",
    "\n",
    "#Se compara los resultados del modelo contra los TRUE LABELS\n",
    "print ('LDA Accuracy %.2f%%' % ((result == true_labels).sum() / len(result)) ) \n"
   ]
  },
  {
   "cell_type": "code",
   "execution_count": null,
   "metadata": {},
   "outputs": [],
   "source": [
    "plt.show()"
   ]
  }
 ],
 "metadata": {
  "kernelspec": {
   "display_name": "Python 3",
   "language": "python",
   "name": "python3"
  },
  "language_info": {
   "codemirror_mode": {
    "name": "ipython",
    "version": 3
   },
   "file_extension": ".py",
   "mimetype": "text/x-python",
   "name": "python",
   "nbconvert_exporter": "python",
   "pygments_lexer": "ipython3",
   "version": "3.7.3"
  }
 },
 "nbformat": 4,
 "nbformat_minor": 1
}
