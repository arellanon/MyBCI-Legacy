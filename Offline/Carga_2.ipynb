{
 "cells": [
  {
   "cell_type": "code",
   "execution_count": 1,
   "metadata": {},
   "outputs": [
    {
     "name": "stdout",
     "output_type": "stream",
     "text": [
      "Automatically created module for IPython interactive environment\n"
     ]
    }
   ],
   "source": [
    "from sklearn.model_selection import ShuffleSplit, cross_val_score\n",
    "from sklearn.discriminant_analysis import LinearDiscriminantAnalysis\n",
    "from sklearn.pipeline import Pipeline\n",
    "\n",
    "from mne.decoding import CSP\n",
    "from mne.channels import read_layout\n",
    "from loaddata import *\n",
    "from sklearn import metrics as met\n",
    "\n",
    "print(__doc__)"
   ]
  },
  {
   "cell_type": "code",
   "execution_count": 2,
   "metadata": {},
   "outputs": [],
   "source": [
    "fp = {\n",
    "    'al': './data_set_raw/data_set_IVa_al.mat',\n",
    "}\n",
    "\n",
    "pick_chan = {\n",
    "    'al': ['C3', 'Cz', 'C5'],\n",
    "}\n",
    "\n",
    "low_freq, high_freq = 7., 30.\n",
    "tmin, tmax = 0., 3.5\n",
    "\n",
    "# event_id\n",
    "event_id = {'right': 1, 'foot': 2}"
   ]
  },
  {
   "cell_type": "code",
   "execution_count": 3,
   "metadata": {
    "scrolled": true
   },
   "outputs": [
    {
     "name": "stdout",
     "output_type": "stream",
     "text": [
      "Creating RawArray with float64 data, n_channels=118, n_times=283574\n",
      "    Range : 0 ... 283573 =      0.000 ...  2835.730 secs\n",
      "Ready.\n",
      "Filtering raw data in 1 contiguous segment\n",
      "Setting up band-pass filter from 7 - 30 Hz\n",
      "\n",
      "FIR filter parameters\n",
      "---------------------\n",
      "Designing a one-pass, zero-phase, non-causal bandpass filter:\n",
      "- Windowed time-domain design (firwin) method\n",
      "- Hamming window with 0.0194 passband ripple and 53 dB stopband attenuation\n",
      "- Lower passband edge: 7.00\n",
      "- Lower transition bandwidth: 2.00 Hz (-6 dB cutoff frequency: 6.00 Hz)\n",
      "- Upper passband edge: 30.00 Hz\n",
      "- Upper transition bandwidth: 7.50 Hz (-6 dB cutoff frequency: 33.75 Hz)\n",
      "- Filter length: 165 samples (1.650 sec)\n",
      "\n"
     ]
    }
   ],
   "source": [
    "#Se carga set de datos crudos\n",
    "raw = creatRawArray(fp['al'])\n",
    "\n",
    "# Se aplica filtros band-pass\n",
    "raw.filter(low_freq, high_freq, fir_design='firwin', skip_by_annotation='edge')\n",
    "\n",
    "#Se carga eventos\n",
    "events, labels = creatEventsArray(fp['al'])\n",
    "\n",
    "#Se genera las epocas con los datos crudos y los eventos\n",
    "epochs = mne.Epochs(raw, events=events, event_id=event_id, tmin=tmin, tmax=tmax, baseline=None, preload=True,\n",
    "                    verbose=False)\n",
    "\n",
    "epochs_train = epochs.copy().crop(tmin=1., tmax=2.)\n",
    "\n",
    "#convierte 1 -> -1 y 2 -> 0\n",
    "labels = epochs.events[:, -1] - 2\n",
    "\n",
    "#Lo convierte a matriz numpy\n",
    "epochs_data = epochs_train.get_data()\n",
    "\n",
    "\n",
    "train_x=epochs_data[:224]\n",
    "train_y=labels[:224]\n",
    "\n",
    "test_x =epochs_data[224:]\n",
    "test_y=labels[224:]\n"
   ]
  },
  {
   "cell_type": "code",
   "execution_count": 4,
   "metadata": {
    "scrolled": false
   },
   "outputs": [
    {
     "name": "stdout",
     "output_type": "stream",
     "text": [
      "Computing rank from data with rank=None\n",
      "    Using tolerance 2e+02 (2.2e-16 eps * 118 dim * 7.7e+15  max singular value)\n",
      "    Estimated rank (mag): 118\n",
      "    MAG: rank 118 computed from 118 data channels with 0 projectors\n",
      "Reducing data rank from 118 -> 118\n",
      "Estimating covariance using EMPIRICAL\n",
      "Done.\n",
      "Computing rank from data with rank=None\n",
      "    Using tolerance 2e+02 (2.2e-16 eps * 118 dim * 7.8e+15  max singular value)\n",
      "    Estimated rank (mag): 118\n",
      "    MAG: rank 118 computed from 118 data channels with 0 projectors\n",
      "Reducing data rank from 118 -> 118\n",
      "Estimating covariance using EMPIRICAL\n",
      "Done.\n",
      "[ 0  0  0  0  0  0 -1  0 -1  0 -1 -1 -1  0 -1  0 -1  0 -1  0  0 -1 -1 -1\n",
      "  0  0 -1  0  0 -1  0 -1 -1 -1 -1 -1 -1 -1 -1  0 -1  0 -1  0 -1 -1  0  0\n",
      "  0  0  0  0  0  0  0 -1]\n",
      "[ 0  0  0  0  0  0 -1  0 -1  0 -1 -1 -1  0 -1  0 -1 -1 -1  0  0  0  0 -1\n",
      " -1  0 -1 -1  0 -1  0 -1 -1 -1 -1 -1  0 -1 -1  0 -1  0 -1  0 -1 -1 -1  0\n",
      "  0  0  0  0 -1  0  0 -1]\n"
     ]
    }
   ],
   "source": [
    "# Assemble a classifier\n",
    "lda = LinearDiscriminantAnalysis()\n",
    "csp = CSP(n_components=len(epochs.ch_names), reg=None, log=True, norm_trace=False)\n",
    "\n",
    "# Use scikit-learn Pipeline\n",
    "clf = Pipeline([('CSP', csp), ('LDA', lda)])\n",
    "\n",
    "\n",
    "clf.fit(train_x, train_y)\n",
    "result=clf.predict(test_x)\n",
    "\n",
    "print(result)\n",
    "print(test_y)"
   ]
  },
  {
   "cell_type": "code",
   "execution_count": 5,
   "metadata": {},
   "outputs": [
    {
     "name": "stdout",
     "output_type": "stream",
     "text": [
      "[[23  5]\n",
      " [ 3 25]]\n",
      "Recall:  [0.82142857 0.89285714]\n",
      "Precision:  [0.88461538 0.83333333]\n",
      "F1:  [0.85185185 0.86206897]\n",
      "Acurracy:  0.8571428571428571\n",
      "23 5 3 25\n",
      "              precision    recall  f1-score   support\n",
      "\n",
      "          -1       0.88      0.82      0.85        28\n",
      "           0       0.83      0.89      0.86        28\n",
      "\n",
      "    accuracy                           0.86        56\n",
      "   macro avg       0.86      0.86      0.86        56\n",
      "weighted avg       0.86      0.86      0.86        56\n",
      "\n"
     ]
    }
   ],
   "source": [
    "print( met.confusion_matrix(test_y, result) )\n",
    "print( \"Recall: \", met.recall_score(test_y, result, average=None) )\n",
    "print( \"Precision: \", met.precision_score(test_y, result, average=None) )\n",
    "print( \"F1: \", met.f1_score(test_y, result, average=None) )\n",
    "print( \"Acurracy: \", met.accuracy_score(test_y, result) )\n",
    "\n",
    "tn, fp, fn, tp = met.confusion_matrix(test_y, result).ravel()\n",
    "print(tn, fp, fn, tp)\n",
    "\n",
    "print(met.classification_report(test_y, result))\n"
   ]
  }
 ],
 "metadata": {
  "kernelspec": {
   "display_name": "Python 3",
   "language": "python",
   "name": "python3"
  },
  "language_info": {
   "codemirror_mode": {
    "name": "ipython",
    "version": 3
   },
   "file_extension": ".py",
   "mimetype": "text/x-python",
   "name": "python",
   "nbconvert_exporter": "python",
   "pygments_lexer": "ipython3",
   "version": "3.7.3"
  }
 },
 "nbformat": 4,
 "nbformat_minor": 2
}
